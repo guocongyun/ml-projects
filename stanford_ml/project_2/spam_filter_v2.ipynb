{
 "cells": [
  {
   "cell_type": "markdown",
   "metadata": {
    "colab_type": "text",
    "id": "ep6k47M5X_Gw"
   },
   "source": [
    "<h3>1.  Read the dataset into a dataframe and explore</h3>\n",
    "<p>Here I imported all of the neccessary librarys and read the spam dataframe, 'spam.csv', into df_original</p>\n",
    "<p>[1 Mark]</p>"
   ]
  },
  {
   "cell_type": "code",
   "execution_count": 1,
   "metadata": {
    "colab": {},
    "colab_type": "code",
    "id": "vq43eDWcX_Gx"
   },
   "outputs": [
    {
     "data": {
      "text/html": [
       "<div>\n",
       "<style scoped>\n",
       "    .dataframe tbody tr th:only-of-type {\n",
       "        vertical-align: middle;\n",
       "    }\n",
       "\n",
       "    .dataframe tbody tr th {\n",
       "        vertical-align: top;\n",
       "    }\n",
       "\n",
       "    .dataframe thead th {\n",
       "        text-align: right;\n",
       "    }\n",
       "</style>\n",
       "<table border=\"1\" class=\"dataframe\">\n",
       "  <thead>\n",
       "    <tr style=\"text-align: right;\">\n",
       "      <th></th>\n",
       "      <th>v1</th>\n",
       "      <th>v2</th>\n",
       "      <th>Unnamed: 2</th>\n",
       "      <th>Unnamed: 3</th>\n",
       "      <th>Unnamed: 4</th>\n",
       "    </tr>\n",
       "  </thead>\n",
       "  <tbody>\n",
       "    <tr>\n",
       "      <th>0</th>\n",
       "      <td>ham</td>\n",
       "      <td>Go until jurong point, crazy.. Available only ...</td>\n",
       "      <td>NaN</td>\n",
       "      <td>NaN</td>\n",
       "      <td>NaN</td>\n",
       "    </tr>\n",
       "    <tr>\n",
       "      <th>1</th>\n",
       "      <td>ham</td>\n",
       "      <td>Ok lar... Joking wif u oni...</td>\n",
       "      <td>NaN</td>\n",
       "      <td>NaN</td>\n",
       "      <td>NaN</td>\n",
       "    </tr>\n",
       "    <tr>\n",
       "      <th>2</th>\n",
       "      <td>spam</td>\n",
       "      <td>Free entry in 2 a wkly comp to win FA Cup fina...</td>\n",
       "      <td>NaN</td>\n",
       "      <td>NaN</td>\n",
       "      <td>NaN</td>\n",
       "    </tr>\n",
       "    <tr>\n",
       "      <th>3</th>\n",
       "      <td>ham</td>\n",
       "      <td>U dun say so early hor... U c already then say...</td>\n",
       "      <td>NaN</td>\n",
       "      <td>NaN</td>\n",
       "      <td>NaN</td>\n",
       "    </tr>\n",
       "    <tr>\n",
       "      <th>4</th>\n",
       "      <td>ham</td>\n",
       "      <td>Nah I don't think he goes to usf, he lives aro...</td>\n",
       "      <td>NaN</td>\n",
       "      <td>NaN</td>\n",
       "      <td>NaN</td>\n",
       "    </tr>\n",
       "    <tr>\n",
       "      <th>...</th>\n",
       "      <td>...</td>\n",
       "      <td>...</td>\n",
       "      <td>...</td>\n",
       "      <td>...</td>\n",
       "      <td>...</td>\n",
       "    </tr>\n",
       "    <tr>\n",
       "      <th>5567</th>\n",
       "      <td>spam</td>\n",
       "      <td>This is the 2nd time we have tried 2 contact u...</td>\n",
       "      <td>NaN</td>\n",
       "      <td>NaN</td>\n",
       "      <td>NaN</td>\n",
       "    </tr>\n",
       "    <tr>\n",
       "      <th>5568</th>\n",
       "      <td>ham</td>\n",
       "      <td>Will Ì_ b going to esplanade fr home?</td>\n",
       "      <td>NaN</td>\n",
       "      <td>NaN</td>\n",
       "      <td>NaN</td>\n",
       "    </tr>\n",
       "    <tr>\n",
       "      <th>5569</th>\n",
       "      <td>ham</td>\n",
       "      <td>Pity, * was in mood for that. So...any other s...</td>\n",
       "      <td>NaN</td>\n",
       "      <td>NaN</td>\n",
       "      <td>NaN</td>\n",
       "    </tr>\n",
       "    <tr>\n",
       "      <th>5570</th>\n",
       "      <td>ham</td>\n",
       "      <td>The guy did some bitching but I acted like i'd...</td>\n",
       "      <td>NaN</td>\n",
       "      <td>NaN</td>\n",
       "      <td>NaN</td>\n",
       "    </tr>\n",
       "    <tr>\n",
       "      <th>5571</th>\n",
       "      <td>ham</td>\n",
       "      <td>Rofl. Its true to its name</td>\n",
       "      <td>NaN</td>\n",
       "      <td>NaN</td>\n",
       "      <td>NaN</td>\n",
       "    </tr>\n",
       "  </tbody>\n",
       "</table>\n",
       "<p>5572 rows × 5 columns</p>\n",
       "</div>"
      ],
      "text/plain": [
       "        v1                                                 v2 Unnamed: 2  \\\n",
       "0      ham  Go until jurong point, crazy.. Available only ...        NaN   \n",
       "1      ham                      Ok lar... Joking wif u oni...        NaN   \n",
       "2     spam  Free entry in 2 a wkly comp to win FA Cup fina...        NaN   \n",
       "3      ham  U dun say so early hor... U c already then say...        NaN   \n",
       "4      ham  Nah I don't think he goes to usf, he lives aro...        NaN   \n",
       "...    ...                                                ...        ...   \n",
       "5567  spam  This is the 2nd time we have tried 2 contact u...        NaN   \n",
       "5568   ham              Will Ì_ b going to esplanade fr home?        NaN   \n",
       "5569   ham  Pity, * was in mood for that. So...any other s...        NaN   \n",
       "5570   ham  The guy did some bitching but I acted like i'd...        NaN   \n",
       "5571   ham                         Rofl. Its true to its name        NaN   \n",
       "\n",
       "     Unnamed: 3 Unnamed: 4  \n",
       "0           NaN        NaN  \n",
       "1           NaN        NaN  \n",
       "2           NaN        NaN  \n",
       "3           NaN        NaN  \n",
       "4           NaN        NaN  \n",
       "...         ...        ...  \n",
       "5567        NaN        NaN  \n",
       "5568        NaN        NaN  \n",
       "5569        NaN        NaN  \n",
       "5570        NaN        NaN  \n",
       "5571        NaN        NaN  \n",
       "\n",
       "[5572 rows x 5 columns]"
      ]
     },
     "execution_count": 1,
     "metadata": {},
     "output_type": "execute_result"
    }
   ],
   "source": [
    "import pandas as pd\n",
    "import matplotlib.pyplot as plt\n",
    "import numpy as np\n",
    "from scipy import stats\n",
    "import re\n",
    "from wordcloud import WordCloud, STOPWORDS\n",
    "import matplotlib.pyplot as plt\n",
    "import math\n",
    "\n",
    "df_original = pd.read_csv('spam.csv', encoding = 'latin-1')\n",
    "df_original"
   ]
  },
  {
   "cell_type": "markdown",
   "metadata": {
    "colab_type": "text",
    "id": "W1HwlygYX_G2"
   },
   "source": [
    "<h3>2. Clean the data</h3>\n",
    "<p>To clean the data, first I removed the droped the unused columns, Unnamed: 2, Unnamed: 3... from the df_original dataframe </p>"
   ]
  },
  {
   "cell_type": "code",
   "execution_count": 2,
   "metadata": {
    "colab": {},
    "colab_type": "code",
    "id": "JqppPCO_X_G3"
   },
   "outputs": [],
   "source": [
    "clean = df_original.drop(['Unnamed: 2','Unnamed: 3','Unnamed: 4'], axis=1)"
   ]
  },
  {
   "cell_type": "markdown",
   "metadata": {},
   "source": [
    "<p>then I renamed the column names</p>"
   ]
  },
  {
   "cell_type": "code",
   "execution_count": 3,
   "metadata": {},
   "outputs": [],
   "source": [
    "clean.columns = ['Category', 'Message']"
   ]
  },
  {
   "cell_type": "markdown",
   "metadata": {},
   "source": [
    "<p>Lastly I removed the non alpha characters and change all characters to lower character</p>"
   ]
  },
  {
   "cell_type": "code",
   "execution_count": 4,
   "metadata": {},
   "outputs": [
    {
     "data": {
      "text/html": [
       "<div>\n",
       "<style scoped>\n",
       "    .dataframe tbody tr th:only-of-type {\n",
       "        vertical-align: middle;\n",
       "    }\n",
       "\n",
       "    .dataframe tbody tr th {\n",
       "        vertical-align: top;\n",
       "    }\n",
       "\n",
       "    .dataframe thead th {\n",
       "        text-align: right;\n",
       "    }\n",
       "</style>\n",
       "<table border=\"1\" class=\"dataframe\">\n",
       "  <thead>\n",
       "    <tr style=\"text-align: right;\">\n",
       "      <th></th>\n",
       "      <th>Category</th>\n",
       "      <th>Message</th>\n",
       "    </tr>\n",
       "  </thead>\n",
       "  <tbody>\n",
       "    <tr>\n",
       "      <th>0</th>\n",
       "      <td>ham</td>\n",
       "      <td>go until jurong point crazy available only in ...</td>\n",
       "    </tr>\n",
       "    <tr>\n",
       "      <th>1</th>\n",
       "      <td>ham</td>\n",
       "      <td>ok lar joking wif u oni</td>\n",
       "    </tr>\n",
       "    <tr>\n",
       "      <th>2</th>\n",
       "      <td>spam</td>\n",
       "      <td>free entry in  a wkly comp to win fa cup final...</td>\n",
       "    </tr>\n",
       "    <tr>\n",
       "      <th>3</th>\n",
       "      <td>ham</td>\n",
       "      <td>u dun say so early hor u c already then say</td>\n",
       "    </tr>\n",
       "    <tr>\n",
       "      <th>4</th>\n",
       "      <td>ham</td>\n",
       "      <td>nah i dont think he goes to usf he lives aroun...</td>\n",
       "    </tr>\n",
       "    <tr>\n",
       "      <th>...</th>\n",
       "      <td>...</td>\n",
       "      <td>...</td>\n",
       "    </tr>\n",
       "    <tr>\n",
       "      <th>5567</th>\n",
       "      <td>spam</td>\n",
       "      <td>this is the nd time we have tried  contact u u...</td>\n",
       "    </tr>\n",
       "    <tr>\n",
       "      <th>5568</th>\n",
       "      <td>ham</td>\n",
       "      <td>will  b going to esplanade fr home</td>\n",
       "    </tr>\n",
       "    <tr>\n",
       "      <th>5569</th>\n",
       "      <td>ham</td>\n",
       "      <td>pity  was in mood for that soany other suggest...</td>\n",
       "    </tr>\n",
       "    <tr>\n",
       "      <th>5570</th>\n",
       "      <td>ham</td>\n",
       "      <td>the guy did some bitching but i acted like id ...</td>\n",
       "    </tr>\n",
       "    <tr>\n",
       "      <th>5571</th>\n",
       "      <td>ham</td>\n",
       "      <td>rofl its true to its name</td>\n",
       "    </tr>\n",
       "  </tbody>\n",
       "</table>\n",
       "<p>5572 rows × 2 columns</p>\n",
       "</div>"
      ],
      "text/plain": [
       "     Category                                            Message\n",
       "0         ham  go until jurong point crazy available only in ...\n",
       "1         ham                            ok lar joking wif u oni\n",
       "2        spam  free entry in  a wkly comp to win fa cup final...\n",
       "3         ham        u dun say so early hor u c already then say\n",
       "4         ham  nah i dont think he goes to usf he lives aroun...\n",
       "...       ...                                                ...\n",
       "5567     spam  this is the nd time we have tried  contact u u...\n",
       "5568      ham                 will  b going to esplanade fr home\n",
       "5569      ham  pity  was in mood for that soany other suggest...\n",
       "5570      ham  the guy did some bitching but i acted like id ...\n",
       "5571      ham                          rofl its true to its name\n",
       "\n",
       "[5572 rows x 2 columns]"
      ]
     },
     "execution_count": 4,
     "metadata": {},
     "output_type": "execute_result"
    }
   ],
   "source": [
    "clean['Message'] = clean['Message'].str.replace(r'[^a-zA-Z ]*','')\n",
    "clean['Message'] = clean['Message'].str.lower()\n",
    "clean"
   ]
  },
  {
   "cell_type": "markdown",
   "metadata": {
    "colab_type": "text",
    "id": "CLTcpAMvX_G8"
   },
   "source": [
    "<h3>3. Split the Data</h3>\n",
    "<p>Here I Split the data into two random samples, one for training the model and the other for testing the model.  with name train_data and test_data.  Since The train_data DataFrame should contain 75% of the data and the test_data DataFrame the remaining 25%, I calculated total_row*3/4 as the seperating_row with rows with index lower than seperating_row being the train_data and rows with index higher than the seperating row as the test_data<p>  \n"
   ]
  },
  {
   "cell_type": "code",
   "execution_count": 5,
   "metadata": {
    "colab": {},
    "colab_type": "code",
    "id": "fgKwaz1yX_G9"
   },
   "outputs": [
    {
     "name": "stdout",
     "output_type": "stream",
     "text": [
      "5572\n",
      "4179\n"
     ]
    },
    {
     "data": {
      "text/html": [
       "<div>\n",
       "<style scoped>\n",
       "    .dataframe tbody tr th:only-of-type {\n",
       "        vertical-align: middle;\n",
       "    }\n",
       "\n",
       "    .dataframe tbody tr th {\n",
       "        vertical-align: top;\n",
       "    }\n",
       "\n",
       "    .dataframe thead th {\n",
       "        text-align: right;\n",
       "    }\n",
       "</style>\n",
       "<table border=\"1\" class=\"dataframe\">\n",
       "  <thead>\n",
       "    <tr style=\"text-align: right;\">\n",
       "      <th></th>\n",
       "      <th>Category</th>\n",
       "      <th>Message</th>\n",
       "    </tr>\n",
       "  </thead>\n",
       "  <tbody>\n",
       "    <tr>\n",
       "      <th>4179</th>\n",
       "      <td>ham</td>\n",
       "      <td>swhrt how u deyhope ur ok tot about u daylove ...</td>\n",
       "    </tr>\n",
       "    <tr>\n",
       "      <th>4180</th>\n",
       "      <td>ham</td>\n",
       "      <td>ok da i already planned i wil pick you</td>\n",
       "    </tr>\n",
       "    <tr>\n",
       "      <th>4181</th>\n",
       "      <td>spam</td>\n",
       "      <td>urgent please call  your abta complimentary  s...</td>\n",
       "    </tr>\n",
       "    <tr>\n",
       "      <th>4182</th>\n",
       "      <td>ham</td>\n",
       "      <td>sorry ill call later in meeting</td>\n",
       "    </tr>\n",
       "    <tr>\n",
       "      <th>4183</th>\n",
       "      <td>ham</td>\n",
       "      <td>i just really need shit before tomorrow and i ...</td>\n",
       "    </tr>\n",
       "    <tr>\n",
       "      <th>...</th>\n",
       "      <td>...</td>\n",
       "      <td>...</td>\n",
       "    </tr>\n",
       "    <tr>\n",
       "      <th>5567</th>\n",
       "      <td>spam</td>\n",
       "      <td>this is the nd time we have tried  contact u u...</td>\n",
       "    </tr>\n",
       "    <tr>\n",
       "      <th>5568</th>\n",
       "      <td>ham</td>\n",
       "      <td>will  b going to esplanade fr home</td>\n",
       "    </tr>\n",
       "    <tr>\n",
       "      <th>5569</th>\n",
       "      <td>ham</td>\n",
       "      <td>pity  was in mood for that soany other suggest...</td>\n",
       "    </tr>\n",
       "    <tr>\n",
       "      <th>5570</th>\n",
       "      <td>ham</td>\n",
       "      <td>the guy did some bitching but i acted like id ...</td>\n",
       "    </tr>\n",
       "    <tr>\n",
       "      <th>5571</th>\n",
       "      <td>ham</td>\n",
       "      <td>rofl its true to its name</td>\n",
       "    </tr>\n",
       "  </tbody>\n",
       "</table>\n",
       "<p>1393 rows × 2 columns</p>\n",
       "</div>"
      ],
      "text/plain": [
       "     Category                                            Message\n",
       "4179      ham  swhrt how u deyhope ur ok tot about u daylove ...\n",
       "4180      ham             ok da i already planned i wil pick you\n",
       "4181     spam  urgent please call  your abta complimentary  s...\n",
       "4182      ham                    sorry ill call later in meeting\n",
       "4183      ham  i just really need shit before tomorrow and i ...\n",
       "...       ...                                                ...\n",
       "5567     spam  this is the nd time we have tried  contact u u...\n",
       "5568      ham                 will  b going to esplanade fr home\n",
       "5569      ham  pity  was in mood for that soany other suggest...\n",
       "5570      ham  the guy did some bitching but i acted like id ...\n",
       "5571      ham                          rofl its true to its name\n",
       "\n",
       "[1393 rows x 2 columns]"
      ]
     },
     "metadata": {},
     "output_type": "display_data"
    },
    {
     "data": {
      "text/html": [
       "<div>\n",
       "<style scoped>\n",
       "    .dataframe tbody tr th:only-of-type {\n",
       "        vertical-align: middle;\n",
       "    }\n",
       "\n",
       "    .dataframe tbody tr th {\n",
       "        vertical-align: top;\n",
       "    }\n",
       "\n",
       "    .dataframe thead th {\n",
       "        text-align: right;\n",
       "    }\n",
       "</style>\n",
       "<table border=\"1\" class=\"dataframe\">\n",
       "  <thead>\n",
       "    <tr style=\"text-align: right;\">\n",
       "      <th></th>\n",
       "      <th>Category</th>\n",
       "      <th>Message</th>\n",
       "    </tr>\n",
       "  </thead>\n",
       "  <tbody>\n",
       "    <tr>\n",
       "      <th>0</th>\n",
       "      <td>ham</td>\n",
       "      <td>go until jurong point crazy available only in ...</td>\n",
       "    </tr>\n",
       "    <tr>\n",
       "      <th>1</th>\n",
       "      <td>ham</td>\n",
       "      <td>ok lar joking wif u oni</td>\n",
       "    </tr>\n",
       "    <tr>\n",
       "      <th>2</th>\n",
       "      <td>spam</td>\n",
       "      <td>free entry in  a wkly comp to win fa cup final...</td>\n",
       "    </tr>\n",
       "    <tr>\n",
       "      <th>3</th>\n",
       "      <td>ham</td>\n",
       "      <td>u dun say so early hor u c already then say</td>\n",
       "    </tr>\n",
       "    <tr>\n",
       "      <th>4</th>\n",
       "      <td>ham</td>\n",
       "      <td>nah i dont think he goes to usf he lives aroun...</td>\n",
       "    </tr>\n",
       "    <tr>\n",
       "      <th>...</th>\n",
       "      <td>...</td>\n",
       "      <td>...</td>\n",
       "    </tr>\n",
       "    <tr>\n",
       "      <th>4174</th>\n",
       "      <td>ham</td>\n",
       "      <td>how are you doing hows the queen are you going...</td>\n",
       "    </tr>\n",
       "    <tr>\n",
       "      <th>4175</th>\n",
       "      <td>ham</td>\n",
       "      <td>hes in lag thats just the sad part but we keep...</td>\n",
       "    </tr>\n",
       "    <tr>\n",
       "      <th>4176</th>\n",
       "      <td>ham</td>\n",
       "      <td>ok lor then we go tog lor</td>\n",
       "    </tr>\n",
       "    <tr>\n",
       "      <th>4177</th>\n",
       "      <td>ham</td>\n",
       "      <td>two teams waiting for some players</td>\n",
       "    </tr>\n",
       "    <tr>\n",
       "      <th>4178</th>\n",
       "      <td>ham</td>\n",
       "      <td>can  send me a copy of da report</td>\n",
       "    </tr>\n",
       "  </tbody>\n",
       "</table>\n",
       "<p>4179 rows × 2 columns</p>\n",
       "</div>"
      ],
      "text/plain": [
       "     Category                                            Message\n",
       "0         ham  go until jurong point crazy available only in ...\n",
       "1         ham                            ok lar joking wif u oni\n",
       "2        spam  free entry in  a wkly comp to win fa cup final...\n",
       "3         ham        u dun say so early hor u c already then say\n",
       "4         ham  nah i dont think he goes to usf he lives aroun...\n",
       "...       ...                                                ...\n",
       "4174      ham  how are you doing hows the queen are you going...\n",
       "4175      ham  hes in lag thats just the sad part but we keep...\n",
       "4176      ham                          ok lor then we go tog lor\n",
       "4177      ham                 two teams waiting for some players\n",
       "4178      ham                   can  send me a copy of da report\n",
       "\n",
       "[4179 rows x 2 columns]"
      ]
     },
     "metadata": {},
     "output_type": "display_data"
    }
   ],
   "source": [
    "total_row = len(clean.index)\n",
    "print(total_row)\n",
    "seperating_row = int(total_row*3/4)\n",
    "print(seperating_row)\n",
    "train_data = clean.iloc[:seperating_row]\n",
    "test_data = clean.iloc[seperating_row:]\n",
    "\n",
    "display(test_data)\n",
    "display(train_data)"
   ]
  },
  {
   "cell_type": "markdown",
   "metadata": {
    "colab_type": "text",
    "id": "EU8azvVgX_HB"
   },
   "source": [
    "<h3>4. Create a Word Frequency DataFrame</h3>\n",
    "<p>In order to create a word frequency dataframe. First I have iterrate over each row of the train_data and append all words into train_list</p>"
   ]
  },
  {
   "cell_type": "code",
   "execution_count": 6,
   "metadata": {
    "colab": {},
    "colab_type": "code",
    "id": "cJxL5N2BX_HC"
   },
   "outputs": [
    {
     "name": "stdout",
     "output_type": "stream",
     "text": [
      "     Category                                            Message\n",
      "0         ham  go until jurong point crazy available only in ...\n",
      "1         ham                            ok lar joking wif u oni\n",
      "2        spam  free entry in  a wkly comp to win fa cup final...\n",
      "3         ham        u dun say so early hor u c already then say\n",
      "4         ham  nah i dont think he goes to usf he lives aroun...\n",
      "...       ...                                                ...\n",
      "4174      ham  how are you doing hows the queen are you going...\n",
      "4175      ham  hes in lag thats just the sad part but we keep...\n",
      "4176      ham                          ok lor then we go tog lor\n",
      "4177      ham                 two teams waiting for some players\n",
      "4178      ham                   can  send me a copy of da report\n",
      "\n",
      "[4179 rows x 2 columns]\n"
     ]
    }
   ],
   "source": [
    "train_list = []\n",
    "\n",
    "print(train_data)\n",
    "for index, row in train_data.iterrows():\n",
    "    train_list = train_list + re.split(\"( )\",row.Message)"
   ]
  },
  {
   "cell_type": "markdown",
   "metadata": {},
   "source": [
    "<p>Then I have removed spaces, nulls and duplicates from the train_list</p>"
   ]
  },
  {
   "cell_type": "code",
   "execution_count": 7,
   "metadata": {},
   "outputs": [],
   "source": [
    "train_list = list(dict.fromkeys(train_list))\n",
    "train_list.remove(' ')\n",
    "train_list.remove('')"
   ]
  },
  {
   "cell_type": "markdown",
   "metadata": {},
   "source": [
    "<p>Afterward I divided train_data into spam_train_data and ham_train_data to make it easier to calculate the frequency</p>"
   ]
  },
  {
   "cell_type": "code",
   "execution_count": 8,
   "metadata": {},
   "outputs": [],
   "source": [
    "spam_train_data = train_data[train_data['Category'] == 'spam']\n",
    "ham_train_data = train_data[train_data['Category'] != 'spam']"
   ]
  },
  {
   "cell_type": "markdown",
   "metadata": {},
   "source": [
    "<p>Lastly I use the .Message.str.contains method to search for three patterns: \" word\", \" word \", \"word \" and use sum method to count the frequency of each word, append it to the ham_list and spam_list, and create frequency_df using train_list,spam_list, and ham_list </p>"
   ]
  },
  {
   "cell_type": "code",
   "execution_count": 9,
   "metadata": {},
   "outputs": [
    {
     "data": {
      "text/html": [
       "<div>\n",
       "<style scoped>\n",
       "    .dataframe tbody tr th:only-of-type {\n",
       "        vertical-align: middle;\n",
       "    }\n",
       "\n",
       "    .dataframe tbody tr th {\n",
       "        vertical-align: top;\n",
       "    }\n",
       "\n",
       "    .dataframe thead th {\n",
       "        text-align: right;\n",
       "    }\n",
       "</style>\n",
       "<table border=\"1\" class=\"dataframe\">\n",
       "  <thead>\n",
       "    <tr style=\"text-align: right;\">\n",
       "      <th></th>\n",
       "      <th>Word</th>\n",
       "      <th>#Spam</th>\n",
       "      <th>#Ham</th>\n",
       "    </tr>\n",
       "  </thead>\n",
       "  <tbody>\n",
       "    <tr>\n",
       "      <th>0</th>\n",
       "      <td>go</td>\n",
       "      <td>26</td>\n",
       "      <td>233</td>\n",
       "    </tr>\n",
       "    <tr>\n",
       "      <th>1</th>\n",
       "      <td>until</td>\n",
       "      <td>5</td>\n",
       "      <td>18</td>\n",
       "    </tr>\n",
       "    <tr>\n",
       "      <th>2</th>\n",
       "      <td>jurong</td>\n",
       "      <td>0</td>\n",
       "      <td>1</td>\n",
       "    </tr>\n",
       "    <tr>\n",
       "      <th>3</th>\n",
       "      <td>point</td>\n",
       "      <td>0</td>\n",
       "      <td>11</td>\n",
       "    </tr>\n",
       "    <tr>\n",
       "      <th>4</th>\n",
       "      <td>crazy</td>\n",
       "      <td>2</td>\n",
       "      <td>8</td>\n",
       "    </tr>\n",
       "    <tr>\n",
       "      <th>...</th>\n",
       "      <td>...</td>\n",
       "      <td>...</td>\n",
       "      <td>...</td>\n",
       "    </tr>\n",
       "    <tr>\n",
       "      <th>7296</th>\n",
       "      <td>teeth</td>\n",
       "      <td>0</td>\n",
       "      <td>1</td>\n",
       "    </tr>\n",
       "    <tr>\n",
       "      <th>7297</th>\n",
       "      <td>hidden</td>\n",
       "      <td>0</td>\n",
       "      <td>1</td>\n",
       "    </tr>\n",
       "    <tr>\n",
       "      <th>7298</th>\n",
       "      <td>royal</td>\n",
       "      <td>0</td>\n",
       "      <td>1</td>\n",
       "    </tr>\n",
       "    <tr>\n",
       "      <th>7299</th>\n",
       "      <td>tog</td>\n",
       "      <td>0</td>\n",
       "      <td>1</td>\n",
       "    </tr>\n",
       "    <tr>\n",
       "      <th>7300</th>\n",
       "      <td>teams</td>\n",
       "      <td>0</td>\n",
       "      <td>1</td>\n",
       "    </tr>\n",
       "  </tbody>\n",
       "</table>\n",
       "<p>7301 rows × 3 columns</p>\n",
       "</div>"
      ],
      "text/plain": [
       "        Word  #Spam  #Ham\n",
       "0         go     26   233\n",
       "1      until      5    18\n",
       "2     jurong      0     1\n",
       "3      point      0    11\n",
       "4      crazy      2     8\n",
       "...      ...    ...   ...\n",
       "7296   teeth      0     1\n",
       "7297  hidden      0     1\n",
       "7298   royal      0     1\n",
       "7299     tog      0     1\n",
       "7300   teams      0     1\n",
       "\n",
       "[7301 rows x 3 columns]"
      ]
     },
     "execution_count": 9,
     "metadata": {},
     "output_type": "execute_result"
    }
   ],
   "source": [
    "spam_list = []\n",
    "ham_list = []\n",
    "\n",
    "for length in range(len(train_list)):\n",
    "    ham_list.append(ham_train_data.Message.str.contains(\" \"+train_list[length]+\"$|^\"+train_list[length]+\"| \"+train_list[length]+\" \").sum())\n",
    "    spam_list.append(spam_train_data.Message.str.contains(\" \"+train_list[length]+\"$|^\"+train_list[length]+\"| \"+train_list[length]+\" \").sum())\n",
    "\n",
    "# print(spam_list)\n",
    "# print(\"spam_list\")\n",
    "\n",
    "frequency_df = pd.DataFrame(data={'Word':train_list,'#Spam':spam_list, '#Ham':ham_list})\n",
    "frequency_df"
   ]
  },
  {
   "cell_type": "markdown",
   "metadata": {
    "colab_type": "text",
    "id": "1DBTOQpJbSqE"
   },
   "source": [
    "<h3>5. Visualise the Data</h3>\n",
    "<p>Since I choose to use the first 20 words to make the word cloud, I first sorted the frequency_df based on #Spam and #Ham and copy the first 40 words into ham_words and spam_words list</p>\n",
    "\n"
   ]
  },
  {
   "cell_type": "code",
   "execution_count": 10,
   "metadata": {
    "colab": {},
    "colab_type": "code",
    "id": "2mmdY8jWbkgS"
   },
   "outputs": [
    {
     "data": {
      "text/html": [
       "<div>\n",
       "<style scoped>\n",
       "    .dataframe tbody tr th:only-of-type {\n",
       "        vertical-align: middle;\n",
       "    }\n",
       "\n",
       "    .dataframe tbody tr th {\n",
       "        vertical-align: top;\n",
       "    }\n",
       "\n",
       "    .dataframe thead th {\n",
       "        text-align: right;\n",
       "    }\n",
       "</style>\n",
       "<table border=\"1\" class=\"dataframe\">\n",
       "  <thead>\n",
       "    <tr style=\"text-align: right;\">\n",
       "      <th></th>\n",
       "      <th>Word</th>\n",
       "      <th>#Spam</th>\n",
       "      <th>#Ham</th>\n",
       "    </tr>\n",
       "  </thead>\n",
       "  <tbody>\n",
       "    <tr>\n",
       "      <th>31</th>\n",
       "      <td>to</td>\n",
       "      <td>360</td>\n",
       "      <td>924</td>\n",
       "    </tr>\n",
       "    <tr>\n",
       "      <th>130</th>\n",
       "      <td>call</td>\n",
       "      <td>242</td>\n",
       "      <td>165</td>\n",
       "    </tr>\n",
       "    <tr>\n",
       "      <th>28</th>\n",
       "      <td>a</td>\n",
       "      <td>230</td>\n",
       "      <td>844</td>\n",
       "    </tr>\n",
       "    <tr>\n",
       "      <th>80</th>\n",
       "      <td>you</td>\n",
       "      <td>181</td>\n",
       "      <td>1006</td>\n",
       "    </tr>\n",
       "    <tr>\n",
       "      <th>105</th>\n",
       "      <td>your</td>\n",
       "      <td>159</td>\n",
       "      <td>262</td>\n",
       "    </tr>\n",
       "    <tr>\n",
       "      <th>...</th>\n",
       "      <td>...</td>\n",
       "      <td>...</td>\n",
       "      <td>...</td>\n",
       "    </tr>\n",
       "    <tr>\n",
       "      <th>5475</th>\n",
       "      <td>jenne</td>\n",
       "      <td>0</td>\n",
       "      <td>1</td>\n",
       "    </tr>\n",
       "    <tr>\n",
       "      <th>5468</th>\n",
       "      <td>famamus</td>\n",
       "      <td>0</td>\n",
       "      <td>1</td>\n",
       "    </tr>\n",
       "    <tr>\n",
       "      <th>5466</th>\n",
       "      <td>carso</td>\n",
       "      <td>0</td>\n",
       "      <td>1</td>\n",
       "    </tr>\n",
       "    <tr>\n",
       "      <th>5465</th>\n",
       "      <td>imaginationmy</td>\n",
       "      <td>0</td>\n",
       "      <td>1</td>\n",
       "    </tr>\n",
       "    <tr>\n",
       "      <th>6677</th>\n",
       "      <td>warned</td>\n",
       "      <td>0</td>\n",
       "      <td>1</td>\n",
       "    </tr>\n",
       "  </tbody>\n",
       "</table>\n",
       "<p>7301 rows × 3 columns</p>\n",
       "</div>"
      ],
      "text/plain": [
       "               Word  #Spam  #Ham\n",
       "31               to    360   924\n",
       "130            call    242   165\n",
       "28                a    230   844\n",
       "80              you    181  1006\n",
       "105            your    159   262\n",
       "...             ...    ...   ...\n",
       "5475          jenne      0     1\n",
       "5468        famamus      0     1\n",
       "5466          carso      0     1\n",
       "5465  imaginationmy      0     1\n",
       "6677         warned      0     1\n",
       "\n",
       "[7301 rows x 3 columns]"
      ]
     },
     "metadata": {},
     "output_type": "display_data"
    },
    {
     "name": "stdout",
     "output_type": "stream",
     "text": [
      "      Word  #Spam  #Ham\n",
      "55       i     36  1360\n",
      "80     you    181  1006\n",
      "31      to    360   924\n",
      "28       a    230   844\n",
      "143    the    122   693\n",
      "7       in     51   550\n",
      "24       u    146   531\n",
      "72     and     92   519\n",
      "98      me     23   496\n",
      "94      is    108   457\n",
      "92      my      9   445\n",
      "83      it     22   383\n",
      "1341     h     35   376\n",
      "48      so     29   358\n",
      "253   that     23   353\n",
      "354     of     75   340\n",
      "82     for    131   340\n",
      "124   have     96   312\n",
      "150     im     11   305\n",
      "345    but      4   302\n"
     ]
    },
    {
     "data": {
      "text/html": [
       "<div>\n",
       "<style scoped>\n",
       "    .dataframe tbody tr th:only-of-type {\n",
       "        vertical-align: middle;\n",
       "    }\n",
       "\n",
       "    .dataframe tbody tr th {\n",
       "        vertical-align: top;\n",
       "    }\n",
       "\n",
       "    .dataframe thead th {\n",
       "        text-align: right;\n",
       "    }\n",
       "</style>\n",
       "<table border=\"1\" class=\"dataframe\">\n",
       "  <thead>\n",
       "    <tr style=\"text-align: right;\">\n",
       "      <th></th>\n",
       "      <th>Word</th>\n",
       "      <th>#Spam</th>\n",
       "      <th>#Ham</th>\n",
       "    </tr>\n",
       "  </thead>\n",
       "  <tbody>\n",
       "    <tr>\n",
       "      <th>31</th>\n",
       "      <td>to</td>\n",
       "      <td>360</td>\n",
       "      <td>924</td>\n",
       "    </tr>\n",
       "    <tr>\n",
       "      <th>130</th>\n",
       "      <td>call</td>\n",
       "      <td>242</td>\n",
       "      <td>165</td>\n",
       "    </tr>\n",
       "    <tr>\n",
       "      <th>28</th>\n",
       "      <td>a</td>\n",
       "      <td>230</td>\n",
       "      <td>844</td>\n",
       "    </tr>\n",
       "    <tr>\n",
       "      <th>80</th>\n",
       "      <td>you</td>\n",
       "      <td>181</td>\n",
       "      <td>1006</td>\n",
       "    </tr>\n",
       "    <tr>\n",
       "      <th>105</th>\n",
       "      <td>your</td>\n",
       "      <td>159</td>\n",
       "      <td>262</td>\n",
       "    </tr>\n",
       "    <tr>\n",
       "      <th>...</th>\n",
       "      <td>...</td>\n",
       "      <td>...</td>\n",
       "      <td>...</td>\n",
       "    </tr>\n",
       "    <tr>\n",
       "      <th>5475</th>\n",
       "      <td>jenne</td>\n",
       "      <td>0</td>\n",
       "      <td>1</td>\n",
       "    </tr>\n",
       "    <tr>\n",
       "      <th>5468</th>\n",
       "      <td>famamus</td>\n",
       "      <td>0</td>\n",
       "      <td>1</td>\n",
       "    </tr>\n",
       "    <tr>\n",
       "      <th>5466</th>\n",
       "      <td>carso</td>\n",
       "      <td>0</td>\n",
       "      <td>1</td>\n",
       "    </tr>\n",
       "    <tr>\n",
       "      <th>5465</th>\n",
       "      <td>imaginationmy</td>\n",
       "      <td>0</td>\n",
       "      <td>1</td>\n",
       "    </tr>\n",
       "    <tr>\n",
       "      <th>6677</th>\n",
       "      <td>warned</td>\n",
       "      <td>0</td>\n",
       "      <td>1</td>\n",
       "    </tr>\n",
       "  </tbody>\n",
       "</table>\n",
       "<p>7301 rows × 3 columns</p>\n",
       "</div>"
      ],
      "text/plain": [
       "               Word  #Spam  #Ham\n",
       "31               to    360   924\n",
       "130            call    242   165\n",
       "28                a    230   844\n",
       "80              you    181  1006\n",
       "105            your    159   262\n",
       "...             ...    ...   ...\n",
       "5475          jenne      0     1\n",
       "5468        famamus      0     1\n",
       "5466          carso      0     1\n",
       "5465  imaginationmy      0     1\n",
       "6677         warned      0     1\n",
       "\n",
       "[7301 rows x 3 columns]"
      ]
     },
     "metadata": {},
     "output_type": "display_data"
    },
    {
     "name": "stdout",
     "output_type": "stream",
     "text": [
      "       Word  #Spam  #Ham\n",
      "31       to    360   924\n",
      "130    call    242   165\n",
      "28        a    230   844\n",
      "80      you    181  1006\n",
      "105    your    159   262\n",
      "24        u    146   531\n",
      "71      now    143   210\n",
      "26     free    141    42\n",
      "138      or    132   160\n",
      "82      for    131   340\n",
      "246      ur    123   141\n",
      "143     the    122   693\n",
      "42      txt    115     7\n",
      "94       is    108   457\n",
      "124    have     96   312\n",
      "149      on     94   287\n",
      "170    from     93   110\n",
      "72      and     92   519\n",
      "129   claim     84     0\n",
      "136  mobile     78     9\n"
     ]
    }
   ],
   "source": [
    "frequency_df = frequency_df.sort_values(by=['#Ham'],ascending=False)\n",
    "ham_words = frequency_df.iloc[:40]\n",
    "\n",
    "frequency_df = frequency_df.sort_values(by=['#Spam'],ascending=False)\n",
    "spam_words = frequency_df.iloc[:40]\n",
    "\n",
    "display(frequency_df)\n",
    "print(ham_words)\n",
    "\n",
    "display(frequency_df)\n",
    "print(spam_words)"
   ]
  },
  {
   "cell_type": "markdown",
   "metadata": {},
   "source": [
    "<p>then I used the wordcloud import to plot the ham and spam wordcloud as shown below</p>"
   ]
  },
  {
   "cell_type": "code",
   "execution_count": 11,
   "metadata": {},
   "outputs": [
    {
     "data": {
      "image/png": "[encoded data removed]",
      "text/plain": [
       "<Figure size 432x288 with 1 Axes>"
      ]
     },
     "metadata": {
      "needs_background": "light"
     },
     "output_type": "display_data"
    },
    {
     "data": {
      "image/png": "[encoded data removed]",
      "text/plain": [
       "<Figure size 432x288 with 1 Axes>"
      ]
     },
     "metadata": {
      "needs_background": "light"
     },
     "output_type": "display_data"
    }
   ],
   "source": [
    "wordcloud = WordCloud().generate(str(ham_words['Word']))\n",
    "plt.imshow(wordcloud, interpolation = 'bilinear')\n",
    "plt.axis('off')\n",
    "plt.show()\n",
    "\n",
    "\n",
    "wordcloud = WordCloud().generate(' '.join(spam_words['Word']))\n",
    "plt.imshow(wordcloud, interpolation = 'bilinear')\n",
    "plt.axis('off')\n",
    "plt.show()"
   ]
  },
  {
   "cell_type": "markdown",
   "metadata": {
    "colab_type": "text",
    "id": "bVpFmJ5kX_HG"
   },
   "source": [
    "<h3>6.  Calculate $P\\left(E\\middle| S\\right)$ and $P\\left(E|\\lnot S\\right)$</h3>\n",
    "<p>I used the equation below to calculate the $P\\left(E\\middle| S\\right)$, and set k = 0.5 to smoothing the probability</p>\n",
    "<p>$P\\left(E\\middle| S\\right)$ = (number of spams containing the word + k) / (total number of spam messages + 2 * k).</p>\n",
    "<p>Moreover, for convience instead of creating a new dataframe, I set the value of #Spam and #Ham to spam_probability and ham_probability and changed the column names</p>\n"
   ]
  },
  {
   "cell_type": "code",
   "execution_count": 12,
   "metadata": {
    "colab": {},
    "colab_type": "code",
    "id": "U2kaXmftX_HH"
   },
   "outputs": [
    {
     "name": "stdout",
     "output_type": "stream",
     "text": [
      "565\n",
      "3614\n"
     ]
    },
    {
     "data": {
      "text/html": [
       "<div>\n",
       "<style scoped>\n",
       "    .dataframe tbody tr th:only-of-type {\n",
       "        vertical-align: middle;\n",
       "    }\n",
       "\n",
       "    .dataframe tbody tr th {\n",
       "        vertical-align: top;\n",
       "    }\n",
       "\n",
       "    .dataframe thead th {\n",
       "        text-align: right;\n",
       "    }\n",
       "</style>\n",
       "<table border=\"1\" class=\"dataframe\">\n",
       "  <thead>\n",
       "    <tr style=\"text-align: right;\">\n",
       "      <th></th>\n",
       "      <th>Word</th>\n",
       "      <th>P(E|S)</th>\n",
       "      <th>P(E|¬S)</th>\n",
       "    </tr>\n",
       "  </thead>\n",
       "  <tbody>\n",
       "    <tr>\n",
       "      <th>31</th>\n",
       "      <td>to</td>\n",
       "      <td>0.636926</td>\n",
       "      <td>0.255740</td>\n",
       "    </tr>\n",
       "    <tr>\n",
       "      <th>130</th>\n",
       "      <td>call</td>\n",
       "      <td>0.428445</td>\n",
       "      <td>0.045781</td>\n",
       "    </tr>\n",
       "    <tr>\n",
       "      <th>28</th>\n",
       "      <td>a</td>\n",
       "      <td>0.407244</td>\n",
       "      <td>0.233610</td>\n",
       "    </tr>\n",
       "    <tr>\n",
       "      <th>80</th>\n",
       "      <td>you</td>\n",
       "      <td>0.320671</td>\n",
       "      <td>0.278423</td>\n",
       "    </tr>\n",
       "    <tr>\n",
       "      <th>105</th>\n",
       "      <td>your</td>\n",
       "      <td>0.281802</td>\n",
       "      <td>0.072614</td>\n",
       "    </tr>\n",
       "    <tr>\n",
       "      <th>...</th>\n",
       "      <td>...</td>\n",
       "      <td>...</td>\n",
       "      <td>...</td>\n",
       "    </tr>\n",
       "    <tr>\n",
       "      <th>5475</th>\n",
       "      <td>jenne</td>\n",
       "      <td>0.000883</td>\n",
       "      <td>0.000415</td>\n",
       "    </tr>\n",
       "    <tr>\n",
       "      <th>5468</th>\n",
       "      <td>famamus</td>\n",
       "      <td>0.000883</td>\n",
       "      <td>0.000415</td>\n",
       "    </tr>\n",
       "    <tr>\n",
       "      <th>5466</th>\n",
       "      <td>carso</td>\n",
       "      <td>0.000883</td>\n",
       "      <td>0.000415</td>\n",
       "    </tr>\n",
       "    <tr>\n",
       "      <th>5465</th>\n",
       "      <td>imaginationmy</td>\n",
       "      <td>0.000883</td>\n",
       "      <td>0.000415</td>\n",
       "    </tr>\n",
       "    <tr>\n",
       "      <th>6677</th>\n",
       "      <td>warned</td>\n",
       "      <td>0.000883</td>\n",
       "      <td>0.000415</td>\n",
       "    </tr>\n",
       "  </tbody>\n",
       "</table>\n",
       "<p>7301 rows × 3 columns</p>\n",
       "</div>"
      ],
      "text/plain": [
       "               Word    P(E|S)   P(E|¬S)\n",
       "31               to  0.636926  0.255740\n",
       "130            call  0.428445  0.045781\n",
       "28                a  0.407244  0.233610\n",
       "80              you  0.320671  0.278423\n",
       "105            your  0.281802  0.072614\n",
       "...             ...       ...       ...\n",
       "5475          jenne  0.000883  0.000415\n",
       "5468        famamus  0.000883  0.000415\n",
       "5466          carso  0.000883  0.000415\n",
       "5465  imaginationmy  0.000883  0.000415\n",
       "6677         warned  0.000883  0.000415\n",
       "\n",
       "[7301 rows x 3 columns]"
      ]
     },
     "metadata": {},
     "output_type": "display_data"
    }
   ],
   "source": [
    "total_spam = len(spam_train_data)\n",
    "total_ham = len(ham_train_data)\n",
    "print(total_spam)\n",
    "print(total_ham)\n",
    "k = 0.5\n",
    "\n",
    "for index, row in frequency_df.iterrows():\n",
    "    spam_frequency = row['#Spam']\n",
    "    spam_probability = (spam_frequency + k) / (total_spam + 2*k)\n",
    "    frequency_df.loc[frequency_df.Word == row['Word'],'#Spam'] = spam_probability    \n",
    "    \n",
    "    ham_frequency = row['#Ham']\n",
    "    ham_probability = (ham_frequency + k) / (total_ham + 2*k)\n",
    "    frequency_df.loc[frequency_df.Word == row['Word'],'#Ham'] = ham_probability\n",
    "    \n",
    "frequency_df = frequency_df.rename(columns={'#Spam':'P(E|S)','#Ham':'P(E|¬S)'})\n",
    "display(frequency_df)\n",
    "    "
   ]
  },
  {
   "cell_type": "markdown",
   "metadata": {
    "colab_type": "text",
    "id": "iagF4brWA5QO"
   },
   "source": [
    "<h3>7. Checking the 'spamliness' of a single word</h3>\n",
    "<p>Using the formula below i was able to calculate the spamliness of single word. It is important to note that I have set P(S), spam_probability as 0.4</p>\n",
    "<h3>\n",
    "$P\\left(S\\middle|\\ E\\right)=\\frac{P\\left(E\\middle|\\ S\\right)P\\left(S\\right)}{P\\left(E\\middle|\\ S\\right)P\\left(S\\right)+P\\left(E|\\lnot S\\right)P\\left(\\lnot S\\right)}$\n",
    "</h3>\n",
    "\n",
    "<p>[2 Marks]</p>"
   ]
  },
  {
   "cell_type": "code",
   "execution_count": 13,
   "metadata": {
    "colab": {},
    "colab_type": "code",
    "id": "NS-KBvz4-YhJ"
   },
   "outputs": [
    {
     "name": "stdout",
     "output_type": "stream",
     "text": [
      "output\n",
      "Word = ['to']\n",
      "P(E|S) = [0.6369258]\n",
      "P(E|¬S) = [0.25573997]\n",
      "P(S|E) = [0.62410924]\n",
      "P(¬S|E) = [0.37589076]\n"
     ]
    }
   ],
   "source": [
    "spam_probability = 0.4\n",
    "ham_probability = 1 - spam_probability\n",
    "\n",
    "test_word = 'to'\n",
    "\n",
    "p_given_spam = frequency_df.loc[frequency_df['Word'] == test_word, 'P(E|S)'].values[0]\n",
    "p_given_ham = frequency_df.loc[frequency_df['Word'] == test_word, 'P(E|¬S)'].values[0]\n",
    "\n",
    "p_spam = p_given_spam*spam_probability/(p_given_spam*spam_probability+p_given_ham*ham_probability)\n",
    "p_ham = 1 - p_spam\n",
    "\n",
    "print(\"output\")\n",
    "print(\"Word = ['\" + test_word + \"']\")\n",
    "print(\"P(E|S) = [\" + str(round(p_given_spam, 8)) + \"]\")\n",
    "print(\"P(E|¬S) = [\" + str(round(p_given_ham, 8)) + \"]\")\n",
    "print(\"P(S|E) = [\" + str(round(p_spam,8)) + \"]\")\n",
    "print(\"P(¬S|E) = [\" + str(round(p_ham,8)) + \"]\")"
   ]
  },
  {
   "cell_type": "markdown",
   "metadata": {
    "colab_type": "text",
    "id": "NiU4nDFrNW-7"
   },
   "source": [
    "<h3>8. Checking the 'spamliness' of several words</h3>\n",
    "<p>To check the spamliness of several words contained in a message I have multiply the probabilities under the assumption that the words appear as independent events hence the naïve Bayes, so\n",
    "$P(S\\,|\\, x_1,\\dots,x_n)\\approx \\frac{P(S)\\underset{i=1}{\\overset{n}{\\prod}}P(x_i | S)}{P(S)\\underset{i=1}{\\overset{n}{\\prod}}P(x_i | S)+P(\\neg S)\\underset{i=1}{\\overset{n}{\\prod}}P(x_i | \\neg S)}$\n",
    "\n",
    "Calculate the probability for each word in a message being spam, and I have store the calculations in a list named prob_spam.  Likewise calculation for probability of ham word in prob_ham when the word is found in the frequency_df.\n",
    "Then multiply the probabilities and compare the results.  If the result of multiplying the probabilities for spam is greater than the result of multiplying the probabilities for not spam(return false), then I would assume the message as spam (return tru).\n",
    "</p>\n"
   ]
  },
  {
   "cell_type": "code",
   "execution_count": 14,
   "metadata": {
    "colab": {},
    "colab_type": "code",
    "id": "PGK027jUNlU7"
   },
   "outputs": [],
   "source": [
    "def check_spam(test_words):\n",
    "    prob_spam = []\n",
    "    prob_ham = []\n",
    "    spam_result = 1\n",
    "    ham_result = 1\n",
    "    \n",
    "\n",
    "    for word in test_words:\n",
    "        if word in frequency_df.Word.values:\n",
    "            spam_probability = 0.4\n",
    "            ham_probability = 1 - spam_probability\n",
    "            test_word = word\n",
    "            \n",
    "            p_given_spam = frequency_df.loc[frequency_df['Word'] == test_word, 'P(E|S)'].values[0]\n",
    "            p_given_ham = frequency_df.loc[frequency_df['Word'] == test_word, 'P(E|¬S)'].values[0]\n",
    "            \n",
    "            p_spam = p_given_spam*spam_probability/(p_given_spam*spam_probability+p_given_ham*ham_probability)\n",
    "            p_ham = p_given_ham*ham_probability/(p_given_spam*spam_probability+p_given_ham*ham_probability)\n",
    "            \n",
    "            prob_spam.append(p_spam)\n",
    "            prob_ham.append(p_ham)\n",
    "            \n",
    "            \n",
    "    \n",
    "    for items in range(len(prob_ham)):\n",
    "        spam_result = spam_result * prob_spam[items]\n",
    "        ham_result = ham_result * prob_ham[items]\n",
    "        \n",
    "                       \n",
    "    print(spam_result)\n",
    "    print(ham_result)\n",
    "    spam = False\n",
    "    if spam_result > ham_result:\n",
    "        spam = True\n",
    "        \n",
    "    print(spam)\n",
    "    \n",
    "    return spam\n"
   ]
  },
  {
   "cell_type": "markdown",
   "metadata": {},
   "source": [
    "<p>Below is a example of how the function can be used</p>"
   ]
  },
  {
   "cell_type": "code",
   "execution_count": 15,
   "metadata": {},
   "outputs": [
    {
     "name": "stdout",
     "output_type": "stream",
     "text": [
      "0.09411148060702866\n",
      "0.048320340464635014\n",
      "True\n"
     ]
    },
    {
     "data": {
      "text/plain": [
       "True"
      ]
     },
     "execution_count": 15,
     "metadata": {},
     "output_type": "execute_result"
    }
   ],
   "source": [
    "check_spam([\"word\",\"is\",\"good\"])"
   ]
  },
  {
   "cell_type": "markdown",
   "metadata": {
    "colab_type": "text",
    "id": "oE6CsYaev-w_"
   },
   "source": [
    "<h3>9. Avoiding floating point underflow</h3>\n",
    "<p>Since multiplying a set of small probabilities could result in a floating-point error.  Therefore below I took the logarithm of the probabilities and add them.  \n",
    "\n",
    "To avoid multiplication of small numbers, I used the following property of $\\log(x):$</p>\n",
    "$$\n",
    "\\log(a\\cdot b)=\\log(a)+\\log(b)\n",
    "$$\n",
    "<p>i.e. the log of the product is equal to the sum of logs (so instead of multiplying small numbers I have added them):</p>\n",
    "$$\n",
    "P(S|x_1,x_2,\\dots,x_N)=P(S)\\cdot P(x_1|S)\\cdot \\dots \\cdot P(x_N|S)$$\n",
    "<p>becomes</p>\n",
    "$$\\log(P(S|x_1,x_2,\\dots,x_N))=\\log\\left(P(S)\\cdot P(x_1|S)\\cdot \\dots  P(x_N|S)\\right)=$$ $$\n",
    "\\log(P(S))+\\log(P(x_1|S))+\\dots+\\log(P(x_N|S))\n",
    "$$\n",
    "<p>So, to check spam or ham we just compare:</p>\n",
    "$$\n",
    "\\log(P(S))+\\log(P(x_1|S))+\\dots+\\log(P(x_N|S))\n",
    "$$\n",
    "<p>and </p>\n",
    "$$\n",
    "\\log(P(\\neg S))+\\log(P(x_1|\\neg S))+\\dots+\\log(P(x_N|\\neg S))\n",
    "$$\n",
    "</p>"
   ]
  },
  {
   "cell_type": "code",
   "execution_count": 16,
   "metadata": {
    "colab": {},
    "colab_type": "code",
    "id": "4JYfU0vixQFw"
   },
   "outputs": [],
   "source": [
    "def check_spam_refined(test_words):\n",
    "#     print(test_words)\n",
    "    p_spam_list = []\n",
    "    p_ham_list = []\n",
    "    spam_probability = 0.4\n",
    "    ham_probability = 1 - spam_probability\n",
    "    spam_result = math.log(spam_probability)\n",
    "    ham_result = math.log(ham_probability)\n",
    "    \n",
    "\n",
    "    for word in test_words:\n",
    "        if word in frequency_df.Word.values:\n",
    "            spam_probability = 0.4\n",
    "            ham_probability = 1 - spam_probability\n",
    "            test_word = word\n",
    "            \n",
    "            p_given_spam = frequency_df.loc[frequency_df['Word'] == test_word, 'P(E|S)'].values[0]\n",
    "            p_given_ham = frequency_df.loc[frequency_df['Word'] == test_word, 'P(E|¬S)'].values[0]\n",
    "\n",
    "            p_spam = p_given_spam*spam_probability/(p_given_spam*spam_probability+p_given_ham*ham_probability)\n",
    "            p_ham = p_given_ham*ham_probability/(p_given_spam*spam_probability+p_given_ham*ham_probability)\n",
    "            \n",
    "            p_spam_list.append(p_spam)\n",
    "            p_ham_list.append(p_ham)\n",
    "            \n",
    "            \n",
    "    \n",
    "    for items in range(len(p_spam_list)):\n",
    "        spam_result = spam_result + math.log(p_spam_list[items])\n",
    "        ham_result = ham_result + math.log(p_ham_list[items])\n",
    "                       \n",
    "#     print(p_spam)\n",
    "#     print(p_ham)\n",
    "    \n",
    "    spam = True\n",
    "    if spam_result < ham_result:\n",
    "        spam = False\n",
    "    \n",
    "    return spam"
   ]
  },
  {
   "cell_type": "markdown",
   "metadata": {},
   "source": [
    "<p>Below is a simple example of how to use the model</p>"
   ]
  },
  {
   "cell_type": "code",
   "execution_count": 17,
   "metadata": {},
   "outputs": [
    {
     "data": {
      "text/plain": [
       "True"
      ]
     },
     "execution_count": 17,
     "metadata": {},
     "output_type": "execute_result"
    }
   ],
   "source": [
    "check_spam_refined(['free'])"
   ]
  },
  {
   "cell_type": "markdown",
   "metadata": {
    "colab_type": "text",
    "id": "ZtiGi5X37b0G"
   },
   "source": [
    "<h3>10. Testing the Model</h3>\n",
    "<p>Using the refined check spam model below I tested the accuracy of the model by spliting the message in each row into a list of words and determine whether the list of words is spam or not. Moreover, the statistics are stored in the match_spam, match_ham ... variables </p>\n"
   ]
  },
  {
   "cell_type": "code",
   "execution_count": 18,
   "metadata": {
    "colab": {},
    "colab_type": "code",
    "id": "OOreoe6F7eri"
   },
   "outputs": [],
   "source": [
    "match_spam = 0\n",
    "match_ham = 0\n",
    "thought_ham_is_spam = 0\n",
    "thought_spam_is_ham = 0\n",
    "accuracy = 0\n",
    "\n",
    "for index, row in test_data.iterrows():\n",
    "    word_list = re.split(\"( )\",row.Message)\n",
    "    try:\n",
    "        word_list = [x for x in word_list if x != \" \"]\n",
    "        word_list = [x for x in word_list if x != \"\"]\n",
    "    finally:\n",
    "        result = check_spam_refined(word_list)\n",
    "    if row.Category == 'spam':\n",
    "        if result:\n",
    "            match_spam += 1\n",
    "        else:\n",
    "            thought_spam_is_ham += 1\n",
    "    if row.Category == 'ham':\n",
    "        if result:\n",
    "            thought_ham_is_spam += 1\n",
    "        else:\n",
    "            match_ham += 1\n",
    "\n",
    "\n",
    "\n",
    "            \n"
   ]
  },
  {
   "cell_type": "markdown",
   "metadata": {},
   "source": [
    "<p>I have calculated the accuracy below and printed out the final result</p>"
   ]
  },
  {
   "cell_type": "code",
   "execution_count": 19,
   "metadata": {},
   "outputs": [
    {
     "name": "stdout",
     "output_type": "stream",
     "text": [
      "match_spam 176\n",
      "match_ham 1158\n",
      "thought_ham_is_spam 53\n",
      "thought_spam_is_ham 6\n",
      "accuracy 0.9576453697056713\n"
     ]
    }
   ],
   "source": [
    "accuracy = (match_spam + match_ham)/(match_ham+match_spam+thought_ham_is_spam+thought_spam_is_ham)\n",
    "print('match_spam ' + str(match_spam))\n",
    "print('match_ham ' + str(match_ham))\n",
    "print('thought_ham_is_spam ' + str(thought_ham_is_spam))\n",
    "print('thought_spam_is_ham ' + str(thought_spam_is_ham))\n",
    "print('accuracy ' + str(accuracy))"
   ]
  },
  {
   "cell_type": "markdown",
   "metadata": {
    "colab_type": "text",
    "id": "fwGqqNBzDh3y"
   },
   "source": [
    "<h3>11. Improvements</h3>\n"
   ]
  },
  {
   "cell_type": "markdown",
   "metadata": {},
   "source": [
    "<p>1)\n",
    "\n",
    "Since in real life, words in message doesn't appear as independent events. For instance, a lot of spam email I received contain words \"Order Now\" or \"Get it now\". \n",
    "Therefore it is possible to create models that not only calculate the spam possibility based on single words, but also based on common phrases in order to further improve the model's accuracy.\n",
    "\n",
    "2)\n",
    "\n",
    "Moreover,since in real life, spam messages not only contains words, but often also contains numbers, links, and scrambled words. \n",
    "Therefore to obtain a more accurate model, we need to also take into account of those variables. For instance, we can train a model that detects scramble words based on how many \"new\" words there is in the message, and \"train\" a model that can differentiate spam numbers from post code, phone number, and train a model that differentiate goverment, official links with virus containig links. \n",
    "</p>"
   ]
  },
  {
   "cell_type": "markdown",
   "metadata": {
    "colab_type": "text",
    "id": "KM5hnY3WDA2f"
   },
   "source": [
    "<h3></h3>"
   ]
  }
 ],
 "metadata": {
  "colab": {
   "collapsed_sections": [],
   "name": "lab05_spam_filter_student.ipynb",
   "provenance": []
  },
  "kernelspec": {
   "display_name": "Python 3",
   "language": "python",
   "name": "python3"
  },
  "language_info": {
   "codemirror_mode": {
    "name": "ipython",
    "version": 3
   },
   "file_extension": ".py",
   "mimetype": "text/x-python",
   "name": "python",
   "nbconvert_exporter": "python",
   "pygments_lexer": "ipython3",
   "version": "3.8.3"
  }
 },
 "nbformat": 4,
 "nbformat_minor": 1
}
